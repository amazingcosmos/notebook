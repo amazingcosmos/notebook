{
 "cells": [
  {
   "cell_type": "code",
   "execution_count": 2,
   "metadata": {
    "collapsed": true
   },
   "outputs": [],
   "source": [
    "%matplotlib inline"
   ]
  },
  {
   "cell_type": "code",
   "execution_count": 4,
   "metadata": {
    "collapsed": true
   },
   "outputs": [],
   "source": [
    "# Ensure python 3 forward compatibility\n",
    "# 保证python3前向兼容\n",
    "from __future__ import print_function\n",
    "\n",
    "import numpy as np\n",
    "import matplotlib.pyplot as plt\n",
    "import theano\n",
    "# By convention, the tensor submodule is load as T\n",
    "# 为了方便使用，张量子模型被加载为T\n",
    "import theano.tensor as T"
   ]
  },
  {
   "cell_type": "markdown",
   "metadata": {},
   "source": [
    "# 基础\n",
    "## Symbolic variables符号变量\n",
    "在Theano中，所有的算法都是符号化定义的。这种方法更类似书写数学表达式。下列的Theano变量都是符号化的；它们都没有明确的值。"
   ]
  },
  {
   "cell_type": "code",
   "execution_count": 10,
   "metadata": {
    "collapsed": false
   },
   "outputs": [
    {
     "name": "stdout",
     "output_type": "stream",
     "text": [
      "<class 'theano.tensor.var.TensorVariable'>\n",
      "TensorType(float64, scalar)\n",
      "(foo ** TensorConstant{2})\n"
     ]
    }
   ],
   "source": [
    "# theano.tensor子模块有很多自带的符号化变量类型\n",
    "# 在这里，我们定义一个标量（scalar）（0-d）变量\n",
    "# 在参数中给出变量的名字\n",
    "foo = T.scalar('foo')\n",
    "# 现在，我们可以定义另一个变量bar，它的值是foo的平方\n",
    "bar = foo**2\n",
    "# 这也是一个theano变量\n",
    "print(type(bar))\n",
    "print(bar.type)\n",
    "# 使用theano的pp（pretty print）函数，我们可以看到\n",
    "# bar是由foo的平方符号化定义的\n",
    "print(theano.pp(bar))"
   ]
  },
  {
   "cell_type": "markdown",
   "metadata": {},
   "source": [
    "## 函数\n",
    "为了使用Theano进行实际的计算，你需要定义符号函数，它可以使用实际值调用并返回一共真实值。"
   ]
  },
  {
   "cell_type": "code",
   "execution_count": 12,
   "metadata": {
    "collapsed": false
   },
   "outputs": [
    {
     "name": "stdout",
     "output_type": "stream",
     "text": [
      "9.0\n"
     ]
    }
   ],
   "source": [
    "# 我们还不能使用foo和bar进行计算\n",
    "# 我们需要先定义theano函数\n",
    "# theano.function中的第一个参数定义了函数的输入\n",
    "# 需要注意bar依赖于foo，所以foo是这个函数的一共输入\n",
    "# 在给定foo的值后，theano.function会编译代码来计算bar的值\n",
    "f = theano.function([foo], bar)\n",
    "print(f(3))"
   ]
  },
  {
   "cell_type": "code",
   "execution_count": 14,
   "metadata": {
    "collapsed": false
   },
   "outputs": [
    {
     "name": "stdout",
     "output_type": "stream",
     "text": [
      "9.0\n"
     ]
    }
   ],
   "source": [
    "# 替代性的，在一些情况下你可以使用一个符号变量的估值方法\n",
    "# 这种方法比定义一个函数更方便\n",
    "# 这个估值方法接受一个字典，其中键是theano的变量，值是这些变量的值\n",
    "print(bar.eval({foo: 3}))"
   ]
  },
  {
   "cell_type": "code",
   "execution_count": 15,
   "metadata": {
    "collapsed": false
   },
   "outputs": [
    {
     "name": "stdout",
     "output_type": "stream",
     "text": [
      "9.0\n"
     ]
    }
   ],
   "source": [
    "# 我们也可以使用Python函数来构建Theano变量\n",
    "# 这看起来很麻烦，但是可以让复杂例子的语法更清晰\n",
    "def square(x):\n",
    "    return x**2\n",
    "bar = square(foo)\n",
    "print(bar.eval({foo: 3}))"
   ]
  },
  {
   "cell_type": "markdown",
   "metadata": {},
   "source": [
    "## theano.tensor\n",
    "Theano也有向量、矩阵、张量的变量类型。theano.tensor子模块有很多函数可以操作这些变量。"
   ]
  },
  {
   "cell_type": "code",
   "execution_count": 16,
   "metadata": {
    "collapsed": false
   },
   "outputs": [
    {
     "name": "stdout",
     "output_type": "stream",
     "text": [
      "[array([ 18.,  37.]), array(91.0)]\n",
      "[array([ 14.,  32.]), array(91.0)]\n"
     ]
    }
   ],
   "source": [
    "A = T.matrix('A')\n",
    "x = T.vector('x')\n",
    "b = T.vector('b')\n",
    "y = T.dot(A, x) + b\n",
    "# 注意对一个矩阵做平方操作是element-wise\n",
    "z = T.sum(A**2)\n",
    "# theano.function可以同时进行很多算\n",
    "# 你也可以设定参数的默认值\n",
    "# 我们会在后续涉及到theano.config.floatX\n",
    "b_default = np.array([0, 0], dtype=theano.config.floatX)\n",
    "linear_mix = theano.function([A, x, theano.Param(b, default=b_default)], [y, z])\n",
    "# 为A, x, b设定值\n",
    "print(linear_mix(np.array([[1, 2, 3],\n",
    "                           [4, 5, 6]], dtype=theano.config.floatX), #A\n",
    "                 np.array([1, 2, 3], dtype=theano.config.floatX), #x\n",
    "                 np.array([4, 5], dtype=theano.config.floatX))) #b\n",
    "# 使用b的默认值\n",
    "print(linear_mix(np.array([[1, 2, 3],\n",
    "                           [4, 5, 6]], dtype=theano.config.floatX), #A\n",
    "                 np.array([1, 2, 3], dtype=theano.config.floatX))) #x"
   ]
  },
  {
   "cell_type": "markdown",
   "metadata": {},
   "source": [
    "## Shared variables共享变量\n",
    "共享变量有一些不同，它们实际上有一个明确的值，并且可以被获取和设置，同时在跨函数使用时共享这些值。它们是很方便的，因为它们在跨函数调用的时候有声明。"
   ]
  },
  {
   "cell_type": "code",
   "execution_count": 21,
   "metadata": {
    "collapsed": false
   },
   "outputs": [
    {
     "name": "stdout",
     "output_type": "stream",
     "text": [
      "<TensorType(float64, matrix)>\n"
     ]
    }
   ],
   "source": [
    "shared_var = theano.shared(np.array([[1, 2], [3, 4]], dtype=theano.config.floatX))\n",
    "# 共享变量的数据类型可以由它的初始化过程推导出\n",
    "print(shared_var.type())"
   ]
  },
  {
   "cell_type": "code",
   "execution_count": 22,
   "metadata": {
    "collapsed": false
   },
   "outputs": [
    {
     "name": "stdout",
     "output_type": "stream",
     "text": [
      "[[ 3.  4.]\n",
      " [ 2.  1.]]\n"
     ]
    }
   ],
   "source": [
    "# 我们可以使用set_value设置一个共享变量的值\n",
    "shared_var.set_value(np.array([[3, 4], [2, 1]], dtype=theano.config.floatX))\n",
    "# 并且使用get_value获取值\n",
    "print(shared_var.get_value())"
   ]
  },
  {
   "cell_type": "code",
   "execution_count": 23,
   "metadata": {
    "collapsed": false
   },
   "outputs": [
    {
     "name": "stdout",
     "output_type": "stream",
     "text": [
      "[[  9.  16.]\n",
      " [  4.   1.]]\n"
     ]
    }
   ],
   "source": [
    "shared_squared = shared_var**2\n",
    "# theano.function的第一个参数（inputs）告诉Theano编译函数的参数应该是怎么样的\n",
    "# 由于shared_var是共享的，它已经有了值，所以它没有必要作为一个函数的输入\n",
    "# 因此，当使用shared_squared时，Theano隐式地将shared_var作为一个函数的输入\n",
    "# 我们不需要在theano.function的输入变量中包含它\n",
    "function_1 = theano.function([], shared_squared)\n",
    "print(function_1())"
   ]
  },
  {
   "cell_type": "code",
   "execution_count": null,
   "metadata": {
    "collapsed": true
   },
   "outputs": [],
   "source": []
  },
  {
   "cell_type": "code",
   "execution_count": null,
   "metadata": {
    "collapsed": true
   },
   "outputs": [],
   "source": []
  },
  {
   "cell_type": "code",
   "execution_count": null,
   "metadata": {
    "collapsed": true
   },
   "outputs": [],
   "source": []
  },
  {
   "cell_type": "code",
   "execution_count": null,
   "metadata": {
    "collapsed": true
   },
   "outputs": [],
   "source": []
  },
  {
   "cell_type": "code",
   "execution_count": null,
   "metadata": {
    "collapsed": true
   },
   "outputs": [],
   "source": []
  },
  {
   "cell_type": "code",
   "execution_count": null,
   "metadata": {
    "collapsed": true
   },
   "outputs": [],
   "source": []
  },
  {
   "cell_type": "code",
   "execution_count": null,
   "metadata": {
    "collapsed": true
   },
   "outputs": [],
   "source": []
  },
  {
   "cell_type": "code",
   "execution_count": null,
   "metadata": {
    "collapsed": true
   },
   "outputs": [],
   "source": []
  },
  {
   "cell_type": "code",
   "execution_count": null,
   "metadata": {
    "collapsed": true
   },
   "outputs": [],
   "source": []
  }
 ],
 "metadata": {
  "kernelspec": {
   "display_name": "Python 2",
   "language": "python",
   "name": "python2"
  },
  "language_info": {
   "codemirror_mode": {
    "name": "ipython",
    "version": 2
   },
   "file_extension": ".py",
   "mimetype": "text/x-python",
   "name": "python",
   "nbconvert_exporter": "python",
   "pygments_lexer": "ipython2",
   "version": "2.7.11"
  }
 },
 "nbformat": 4,
 "nbformat_minor": 0
}
